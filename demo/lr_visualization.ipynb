{
 "cells": [
  {
   "cell_type": "code",
   "execution_count": 217,
   "metadata": {
    "collapsed": true
   },
   "outputs": [],
   "source": [
    "import math\n",
    "import torch\n",
    "import numpy as np\n",
    "from torch.optim.lr_scheduler import LambdaLR\n",
    "import matplotlib.pyplot as plt"
   ]
  },
  {
   "cell_type": "markdown",
   "source": [
    "# Attempt 1"
   ],
   "metadata": {
    "collapsed": false
   }
  },
  {
   "cell_type": "code",
   "execution_count": 247,
   "outputs": [],
   "source": [
    "def custom_lr_scheduler(optimizer, warmup_iterations, total_iterations, starting_iter):\n",
    "    def lr_lambda(iteration):\n",
    "        iteration += starting_iter\n",
    "        if iteration < warmup_iterations:\n",
    "            return 1\n",
    "        if iteration < total_iterations:\n",
    "            cosine_decay = 0.5 * (1 + math.cos(\n",
    "                math.pi * (iteration - warmup_iterations) / (total_iterations - warmup_iterations)))\n",
    "            return 0.95 + 0.05 * cosine_decay\n",
    "        else:\n",
    "            return 0.95\n",
    "    return LambdaLR(optimizer, lr_lambda)\n",
    "\n",
    "beta = torch.tensor(0.0, requires_grad=False)\n",
    "optimizer = torch.optim.SGD([beta], lr=1)\n",
    "scheduler = custom_lr_scheduler(optimizer, 0, 100000, starting_iter=50000)"
   ],
   "metadata": {
    "collapsed": false
   }
  },
  {
   "cell_type": "code",
   "execution_count": 248,
   "outputs": [],
   "source": [
    "X = np.arange(1000000)"
   ],
   "metadata": {
    "collapsed": false
   }
  },
  {
   "cell_type": "code",
   "execution_count": 249,
   "outputs": [],
   "source": [
    "Y = []\n",
    "for i in range(1000000):\n",
    "    optimizer.step()\n",
    "    beta = scheduler.get_last_lr()\n",
    "    Y.append(beta)\n",
    "    scheduler.step()"
   ],
   "metadata": {
    "collapsed": false
   }
  },
  {
   "cell_type": "code",
   "execution_count": 250,
   "outputs": [
    {
     "name": "stdout",
     "output_type": "stream",
     "text": [
      "[0.95]\n",
      "[0.95]\n",
      "[0.95]\n",
      "[0.95]\n",
      "[0.95]\n",
      "[0.95]\n",
      "[0.95]\n",
      "[0.95]\n"
     ]
    },
    {
     "data": {
      "text/plain": "<Figure size 640x480 with 1 Axes>",
      "image/png": "[encoded data removed]"
     },
     "metadata": {},
     "output_type": "display_data"
    }
   ],
   "source": [
    "plt.plot(X, Y)\n",
    "print(Y[50000])\n",
    "print(Y[100000])\n",
    "print(Y[150000])\n",
    "print(Y[200000])\n",
    "print(Y[300000])\n",
    "print(Y[400000])\n",
    "print(Y[500000])\n",
    "print(Y[600000])"
   ],
   "metadata": {
    "collapsed": false
   }
  },
  {
   "cell_type": "code",
   "execution_count": 259,
   "outputs": [
    {
     "name": "stdout",
     "output_type": "stream",
     "text": [
      "[0.95]\n"
     ]
    }
   ],
   "source": [
    "print(Y[56000])"
   ],
   "metadata": {
    "collapsed": false
   }
  },
  {
   "cell_type": "code",
   "execution_count": 250,
   "outputs": [],
   "source": [],
   "metadata": {
    "collapsed": false
   }
  }
 ],
 "metadata": {
  "kernelspec": {
   "display_name": "Python 3",
   "language": "python",
   "name": "python3"
  },
  "language_info": {
   "codemirror_mode": {
    "name": "ipython",
    "version": 2
   },
   "file_extension": ".py",
   "mimetype": "text/x-python",
   "name": "python",
   "nbconvert_exporter": "python",
   "pygments_lexer": "ipython2",
   "version": "2.7.6"
  }
 },
 "nbformat": 4,
 "nbformat_minor": 0
}
